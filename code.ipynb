{
 "cells": [
  {
   "attachments": {},
   "cell_type": "markdown",
   "metadata": {},
   "source": [
    "# Assigment"
   ]
  },
  {
   "cell_type": "code",
   "execution_count": 2,
   "metadata": {},
   "outputs": [],
   "source": [
    "import pandas as pd\n",
    "import random\n",
    "import matplotlib.pyplot as plt"
   ]
  },
  {
   "attachments": {},
   "cell_type": "markdown",
   "metadata": {},
   "source": [
    "# Step 1: Loading and formatting the data"
   ]
  },
  {
   "cell_type": "code",
   "execution_count": 36,
   "metadata": {},
   "outputs": [
    {
     "name": "stdout",
     "output_type": "stream",
     "text": [
      "Train index 0\n",
      "date                            2011_09_28\n",
      "drive           2011_09_28_drive_0106_sync\n",
      "frame                                   48\n",
      "drive_number                          0106\n",
      "Name: 0, dtype: object\n",
      "Train index 1\n",
      "date                            2011_09_26\n",
      "drive           2011_09_26_drive_0046_sync\n",
      "frame                                    6\n",
      "drive_number                          0046\n",
      "Name: 3, dtype: object\n",
      "Val index 0\n",
      "date                            2011_09_26\n",
      "drive           2011_09_26_drive_0101_sync\n",
      "frame                                  528\n",
      "drive_number                          0101\n",
      "Name: 1, dtype: object\n",
      "Val index 1\n",
      "date                            2011_09_26\n",
      "drive           2011_09_26_drive_0086_sync\n",
      "frame                                  108\n",
      "drive_number                          0086\n",
      "Name: 2, dtype: object\n"
     ]
    }
   ],
   "source": [
    "# I substract 1 because the indices in the file are 1-based\n",
    "with open('./devkit_object/mapping/train_rand.txt', 'r') as f:\n",
    "    train_rand_indices = [int(x) - 1 for x in f.read().split(',')]\n",
    "\n",
    "val = pd.read_csv('./ImageSets/val.txt', header=None, names=['index'])\n",
    "train = pd.read_csv('./ImageSets/train.txt', header=None, names=['index'])\n",
    "train_mapping = pd.read_csv('./devkit_object/mapping/train_mapping.txt', header=None, names=['date', 'drive', 'frame'], sep=' ')\n",
    "train_mapping['drive_number'] = train_mapping['drive'].str.extract(r'drive_(\\d+)_sync')\n",
    "\n",
    "\n",
    "train_rand_mapping = train_mapping.iloc[train_rand_indices].reset_index(drop=True)\n",
    "\n",
    "# Check that the indices are correct\n",
    "print(\"Train index 0\")\n",
    "print(train_rand_mapping.iloc[train.iloc[0].values[0] ])\n",
    "print(\"Train index 1\")\n",
    "print(train_rand_mapping.iloc[train.iloc[1].values[0] ])\n",
    "\n",
    "print(\"Val index 0\")\n",
    "print(train_rand_mapping.iloc[val.iloc[0].values[0] ])\n",
    "print(\"Val index 1\")\n",
    "print(train_rand_mapping.iloc[val.iloc[1].values[0] ])\n",
    "\n"
   ]
  },
  {
   "attachments": {},
   "cell_type": "markdown",
   "metadata": {},
   "source": [
    "## Print variables"
   ]
  },
  {
   "cell_type": "code",
   "execution_count": 37,
   "metadata": {},
   "outputs": [
    {
     "name": "stdout",
     "output_type": "stream",
     "text": [
      "train_mapping\n",
      "         date                       drive  frame drive_number\n",
      "0  2011_09_26  2011_09_26_drive_0005_sync    109         0005\n",
      "1  2011_09_26  2011_09_26_drive_0005_sync    125         0005\n",
      "2  2011_09_26  2011_09_26_drive_0005_sync    127         0005\n",
      "3  2011_09_26  2011_09_26_drive_0005_sync    130         0005\n",
      "4  2011_09_26  2011_09_26_drive_0005_sync    133         0005\n",
      "train_rand_mapping\n",
      "         date                       drive  frame drive_number\n",
      "0  2011_09_28  2011_09_28_drive_0106_sync     48         0106\n",
      "1  2011_09_26  2011_09_26_drive_0101_sync    528         0101\n",
      "2  2011_09_26  2011_09_26_drive_0086_sync    108         0086\n",
      "3  2011_09_26  2011_09_26_drive_0046_sync      6         0046\n",
      "4  2011_09_26  2011_09_26_drive_0101_sync    765         0101\n",
      "train\n",
      "   index\n",
      "0      0\n",
      "1      3\n",
      "2      7\n",
      "3      9\n",
      "4     10\n",
      "val\n",
      "   index\n",
      "0      1\n",
      "1      2\n",
      "2      4\n",
      "3      5\n",
      "4      6\n"
     ]
    }
   ],
   "source": [
    "print(\"train_mapping\")\n",
    "print(train_mapping.head())\n",
    "print(\"train_rand_mapping\")\n",
    "print(train_rand_mapping.head())\n",
    "print(\"train\")\n",
    "print(train.head())\n",
    "print(\"val\")\n",
    "print(val.head())"
   ]
  },
  {
   "attachments": {},
   "cell_type": "markdown",
   "metadata": {},
   "source": [
    "## Step 2: Checking if train and val sets contain separate video sequences"
   ]
  },
  {
   "cell_type": "code",
   "execution_count": 38,
   "metadata": {},
   "outputs": [],
   "source": [
    "def check_train_val_sets(train, val, train_rand_mapping):\n",
    "    train_date_drive_pairs = train_rand_mapping.iloc[train['index'].values][['date', 'drive_number']].drop_duplicates()\n",
    "\n",
    "    # print(train_date_drive_pairs.head())\n",
    "    # Extract unique date and drive number pairs from val set\n",
    "    val_date_drive_pairs = train_rand_mapping.iloc[val['index'].values][['date', 'drive_number']].drop_duplicates()\n",
    "    # print(val_date_drive_pairs.head())\n",
    "    # Check if any date and drive number pairs are common between train and val sets\n",
    "    common_date_drive_pairs = train_date_drive_pairs.merge(val_date_drive_pairs, on=['date', 'drive_number'])\n",
    "\n",
    "    if common_date_drive_pairs.empty:\n",
    "        print(\"The train and val sets contain different video sequences.\")\n",
    "    else:\n",
    "        print(\"The train and val sets have some common video sequences:\")\n",
    "        print(common_date_drive_pairs)"
   ]
  },
  {
   "cell_type": "code",
   "execution_count": 39,
   "metadata": {},
   "outputs": [
    {
     "name": "stdout",
     "output_type": "stream",
     "text": [
      "The train and val sets contain different video sequences.\n"
     ]
    }
   ],
   "source": [
    "check_train_val_sets(train, val, train_rand_mapping)"
   ]
  },
  {
   "attachments": {},
   "cell_type": "markdown",
   "metadata": {},
   "source": [
    "## Step 3: Create a new train and val sets from prior test set. "
   ]
  },
  {
   "cell_type": "code",
   "execution_count": 40,
   "metadata": {},
   "outputs": [
    {
     "name": "stdout",
     "output_type": "stream",
     "text": [
      "The train and val sets contain different video sequences.\n",
      "train_new\n",
      "  index\n",
      "0     3\n",
      "1     7\n",
      "2     9\n",
      "3    10\n",
      "4    11\n",
      "Size of train_new: 3340\n",
      "val_new\n",
      "  index\n",
      "0     0\n",
      "1    38\n",
      "2    95\n",
      "3   111\n",
      "4   119\n",
      "Size of val_new: 372\n",
      "test_new\n",
      "   index\n",
      "0      1\n",
      "1      2\n",
      "2      4\n",
      "3      5\n",
      "4      6\n",
      "Size of test_new: 3769\n"
     ]
    }
   ],
   "source": [
    "test_new = val\n",
    "\n",
    "# Shuffle the unique date and drive pairs in the train set + reset the index\n",
    "train_shuffled = train.sample(frac=1, random_state=42).reset_index(drop=True)\n",
    "\n",
    "# Calculate the split point\n",
    "size_of_train = 3340\n",
    "size_of_val = 372\n",
    "\n",
    "# Create a dictionary to group the train_rand_mapping from train_shuffled by video sequence\n",
    "grouped_by_video = {}\n",
    "for i, row in train_shuffled.iterrows():\n",
    "    date = train_rand_mapping.iloc[row['index']]['date']\n",
    "    drive_number = train_rand_mapping.iloc[row['index']]['drive_number']\n",
    "    video_sequence = (date, drive_number)\n",
    "    if video_sequence not in grouped_by_video:\n",
    "        grouped_by_video[video_sequence] = []\n",
    "    grouped_by_video[video_sequence].append(row['index'])\n",
    "\n",
    "# Shuffle the video sequences\n",
    "video_sequences = list(grouped_by_video.keys())\n",
    "random.shuffle(video_sequences)\n",
    "\n",
    "selected_video_sequences = {}\n",
    "current_size = 0\n",
    "\n",
    "for video_sequence in video_sequences:\n",
    "    indices = grouped_by_video[video_sequence]\n",
    "    \n",
    "    if current_size + len(indices) == size_of_val:\n",
    "        selected_video_sequences[video_sequence] = indices\n",
    "        current_size += len(indices)\n",
    "        break\n",
    "    \n",
    "    if current_size + len(indices) < size_of_val:\n",
    "        selected_video_sequences[video_sequence] = indices\n",
    "        current_size += len(indices)\n",
    "\n",
    "\n",
    "# Remove selected video sequences from the grouped_by_video dictionary\n",
    "for video_sequence in selected_video_sequences:\n",
    "    grouped_by_video.pop(video_sequence)\n",
    "\n",
    "\n",
    "# Create a new train set\n",
    "train_new = pd.DataFrame(columns=['index'])\n",
    "for video_sequence in grouped_by_video:\n",
    "    for index in grouped_by_video[video_sequence]:\n",
    "        train_new = train_new.append({'index': index}, ignore_index=True)\n",
    "\n",
    "# Create a new val set\n",
    "val_new = pd.DataFrame(columns=['index'])\n",
    "for video_sequence in selected_video_sequences:\n",
    "    for index in selected_video_sequences[video_sequence]:\n",
    "        val_new = val_new.append({'index': index}, ignore_index=True)\n",
    "\n",
    "# Sort the indices in the new train and val sets\n",
    "train_new = train_new.sort_values(by=['index']).reset_index(drop=True)\n",
    "val_new = val_new.sort_values(by=['index']).reset_index(drop=True)\n",
    "\n",
    "check_train_val_sets(train_new, val_new, train_rand_mapping)\n",
    "\n",
    "print(\"train_new\")\n",
    "print(train_new.head())\n",
    "print(\"Size of train_new: {}\".format(len(train_new)))\n",
    "print(\"val_new\")\n",
    "print(val_new.head())\n",
    "print(\"Size of val_new: {}\".format(len(val_new)))\n",
    "print(\"test_new\")\n",
    "print(test_new.head())\n",
    "print(\"Size of test_new: {}\".format(len(test_new)))\n",
    "\n"
   ]
  },
  {
   "attachments": {},
   "cell_type": "markdown",
   "metadata": {},
   "source": [
    "## Save new sets"
   ]
  },
  {
   "cell_type": "code",
   "execution_count": 26,
   "metadata": {},
   "outputs": [],
   "source": [
    "# Save the new train, val and test sets as txt files in the new ImageSets folder \n",
    "train_new.to_csv('./Mateusz_ImageSets/train_new.txt', header=False, index=False)\n",
    "val_new.to_csv('./Mateusz_ImageSets/val_new.txt', header=False, index=False)\n",
    "test_new.to_csv('./Mateusz_ImageSets/test_new.txt', header=False, index=False)"
   ]
  },
  {
   "attachments": {},
   "cell_type": "markdown",
   "metadata": {},
   "source": [
    "# Additional step: plot distribution of new sets"
   ]
  },
  {
   "cell_type": "code",
   "execution_count": 27,
   "metadata": {},
   "outputs": [],
   "source": [
    "def plot_distribution(train_set, val_set):\n",
    "    train_sequence_lengths = [len(indices) for indices in train_set.values()]\n",
    "    val_sequence_lengths = [len(indices) for indices in val_set.values()]\n",
    "    \n",
    "    plt.figure(figsize=(12, 6))\n",
    "    plt.hist(train_sequence_lengths, bins=20, alpha=0.5, label='Train set')\n",
    "    plt.hist(val_sequence_lengths, bins=20, alpha=0.5, label='Validation set')\n",
    "    plt.xlabel('Number of frames per video sequence')\n",
    "    plt.ylabel('Frequency')\n",
    "    plt.title('Distribution of video sequences in train and validation sets')\n",
    "    plt.legend(loc='upper right')\n",
    "    plt.show()"
   ]
  },
  {
   "cell_type": "code",
   "execution_count": 28,
   "metadata": {},
   "outputs": [
    {
     "data": {
      "image/png": "[encoded data removed]",
      "text/plain": [
       "<Figure size 1200x600 with 1 Axes>"
      ]
     },
     "metadata": {},
     "output_type": "display_data"
    }
   ],
   "source": [
    "plot_distribution(grouped_by_video, selected_video_sequences)"
   ]
  },
  {
   "attachments": {},
   "cell_type": "markdown",
   "metadata": {},
   "source": [
    "# Requested intermediate step"
   ]
  },
  {
   "cell_type": "code",
   "execution_count": 35,
   "metadata": {},
   "outputs": [
    {
     "name": "stdout",
     "output_type": "stream",
     "text": [
      "All video sequences:\n",
      "['2011_09_28_drive_0106_sync', '2011_09_26_drive_0101_sync', '2011_09_26_drive_0086_sync', '2011_09_26_drive_0046_sync', '2011_09_26_drive_0070_sync', '2011_09_29_drive_0026_sync', '2011_09_26_drive_0056_sync', '2011_09_26_drive_0064_sync', '2011_09_26_drive_0036_sync', '2011_09_26_drive_0106_sync', '2011_09_26_drive_0018_sync', '2011_09_26_drive_0027_sync', '2011_09_26_drive_0028_sync', '2011_09_29_drive_0071_sync', '2011_09_26_drive_0051_sync', '2011_09_26_drive_0022_sync', '2011_09_26_drive_0095_sync', '2011_09_26_drive_0019_sync', '2011_10_03_drive_0047_sync', '2011_09_26_drive_0061_sync', '2011_09_26_drive_0032_sync', '2011_09_28_drive_0177_sync', '2011_09_26_drive_0087_sync', '2011_09_26_drive_0035_sync', '2011_09_26_drive_0096_sync', '2011_09_26_drive_0014_sync', '2011_09_26_drive_0057_sync', '2011_09_26_drive_0059_sync', '2011_09_26_drive_0039_sync', '2011_09_26_drive_0091_sync', '2011_09_26_drive_0001_sync', '2011_09_26_drive_0084_sync', '2011_09_26_drive_0104_sync', '2011_09_26_drive_0093_sync', '2011_09_26_drive_0009_sync', '2011_09_28_drive_0080_sync', '2011_09_28_drive_0125_sync', '2011_09_26_drive_0015_sync', '2011_09_28_drive_0141_sync', '2011_09_28_drive_0043_sync', '2011_09_26_drive_0029_sync', '2011_09_29_drive_0004_sync', '2011_09_26_drive_0117_sync', '2011_09_26_drive_0011_sync', '2011_09_28_drive_0185_sync', '2011_09_28_drive_0161_sync', '2011_09_26_drive_0023_sync', '2011_09_26_drive_0020_sync', '2011_09_28_drive_0002_sync', '2011_09_28_drive_0016_sync', '2011_09_28_drive_0045_sync', '2011_09_28_drive_0071_sync', '2011_09_28_drive_0094_sync', '2011_09_28_drive_0001_sync', '2011_09_26_drive_0002_sync', '2011_09_28_drive_0174_sync', '2011_09_26_drive_0013_sync', '2011_09_28_drive_0095_sync', '2011_09_28_drive_0121_sync', '2011_09_26_drive_0005_sync', '2011_09_28_drive_0037_sync', '2011_09_28_drive_0082_sync', '2011_09_28_drive_0053_sync', '2011_09_28_drive_0165_sync', '2011_09_28_drive_0146_sync', '2011_09_28_drive_0149_sync', '2011_09_28_drive_0222_sync', '2011_09_28_drive_0021_sync', '2011_09_28_drive_0192_sync', '2011_09_26_drive_0017_sync', '2011_09_28_drive_0047_sync', '2011_09_28_drive_0162_sync', '2011_09_28_drive_0039_sync', '2011_09_28_drive_0168_sync', '2011_09_28_drive_0220_sync', '2011_09_28_drive_0209_sync', '2011_09_28_drive_0184_sync', '2011_09_28_drive_0119_sync', '2011_09_26_drive_0060_sync', '2011_09_26_drive_0048_sync', '2011_09_28_drive_0057_sync', '2011_09_28_drive_0090_sync', '2011_09_26_drive_0079_sync', '2011_09_28_drive_0179_sync', '2011_09_28_drive_0087_sync', '2011_09_28_drive_0098_sync', '2011_09_28_drive_0132_sync', '2011_09_28_drive_0038_sync', '2011_09_28_drive_0216_sync', '2011_09_28_drive_0201_sync', '2011_09_28_drive_0089_sync', '2011_09_28_drive_0198_sync', '2011_09_28_drive_0134_sync', '2011_09_28_drive_0143_sync', '2011_09_28_drive_0187_sync', '2011_09_28_drive_0104_sync', '2011_09_28_drive_0110_sync', '2011_09_28_drive_0102_sync', '2011_09_28_drive_0113_sync', '2011_09_28_drive_0068_sync', '2011_09_28_drive_0108_sync', '2011_09_28_drive_0195_sync', '2011_09_28_drive_0054_sync', '2011_09_26_drive_0052_sync', '2011_09_28_drive_0186_sync', '2011_09_28_drive_0166_sync', '2011_09_28_drive_0153_sync', '2011_09_28_drive_0096_sync', '2011_09_28_drive_0100_sync', '2011_09_28_drive_0128_sync', '2011_09_28_drive_0167_sync', '2011_09_28_drive_0117_sync', '2011_09_28_drive_0075_sync', '2011_09_28_drive_0086_sync', '2011_09_28_drive_0214_sync', '2011_09_28_drive_0183_sync', '2011_09_26_drive_0113_sync', '2011_09_28_drive_0208_sync', '2011_09_28_drive_0154_sync', '2011_09_28_drive_0171_sync', '2011_09_28_drive_0204_sync', '2011_09_28_drive_0138_sync', '2011_09_28_drive_0035_sync', '2011_09_28_drive_0122_sync', '2011_09_28_drive_0160_sync', '2011_09_28_drive_0191_sync', '2011_09_28_drive_0205_sync', '2011_09_28_drive_0199_sync', '2011_09_28_drive_0155_sync', '2011_09_28_drive_0145_sync', '2011_09_28_drive_0034_sync', '2011_09_28_drive_0103_sync', '2011_09_28_drive_0065_sync', '2011_09_28_drive_0136_sync', '2011_09_28_drive_0135_sync', '2011_09_28_drive_0078_sync', '2011_09_28_drive_0070_sync', '2011_09_28_drive_0077_sync', '2011_09_28_drive_0066_sync', '2011_09_28_drive_0126_sync', '2011_09_28_drive_0156_sync']\n",
      "\n",
      "Video sequences in the train set (train_new):\n",
      "['2011_09_28_0106_sync', '2011_09_26_0046_sync', '2011_09_26_0056_sync', '2011_09_26_0036_sync', '2011_09_26_0106_sync', '2011_09_26_0018_sync', '2011_09_26_0051_sync', '2011_09_26_0061_sync', '2011_09_26_0096_sync', '2011_09_26_0059_sync', '2011_09_26_0091_sync', '2011_09_26_0084_sync', '2011_09_26_0104_sync', '2011_09_26_0015_sync', '2011_09_26_0117_sync', '2011_09_26_0011_sync', '2011_09_28_0185_sync', '2011_09_26_0013_sync', '2011_09_28_0037_sync', '2011_09_28_0021_sync', '2011_09_26_0079_sync', '2011_09_28_0098_sync', '2011_09_28_0216_sync', '2011_09_28_0134_sync', '2011_09_28_0102_sync', '2011_09_28_0108_sync', '2011_09_28_0117_sync', '2011_09_28_0075_sync', '2011_09_28_0135_sync']\n",
      "\n",
      "Video sequences in the validation set (val_new):\n",
      "['2011_09_26_0028_sync', '2011_09_26_0019_sync', '2011_09_28_0001_sync', '2011_09_28_0149_sync', '2011_09_28_0184_sync', '2011_09_28_0090_sync', '2011_09_28_0198_sync', '2011_09_28_0104_sync', '2011_09_28_0214_sync', '2011_09_26_0113_sync', '2011_09_28_0204_sync', '2011_09_28_0160_sync']\n",
      "\n",
      "Video sequences in the test set (test_new):\n",
      "['2011_09_26_0035_sync', '2011_09_28_0080_sync', '2011_09_28_0141_sync', '2011_09_26_0029_sync', '2011_09_29_0004_sync', '2011_09_26_0020_sync', '2011_09_28_0016_sync', '2011_09_28_0121_sync', '2011_09_26_0005_sync', '2011_09_28_0165_sync', '2011_09_28_0047_sync', '2011_09_28_0119_sync', '2011_09_26_0048_sync', '2011_09_28_0057_sync', '2011_09_28_0087_sync', '2011_09_28_0038_sync', '2011_09_28_0143_sync', '2011_09_28_0187_sync', '2011_09_28_0186_sync', '2011_09_28_0166_sync', '2011_09_28_0096_sync', '2011_09_28_0128_sync', '2011_09_28_0167_sync', '2011_09_28_0086_sync', '2011_09_28_0205_sync', '2011_09_28_0145_sync', '2011_09_28_0066_sync', '2011_09_28_0126_sync', '2011_09_28_0156_sync']\n"
     ]
    }
   ],
   "source": [
    "unique_date_drive_pairs = train_rand_mapping[['date', 'drive_number']].drop_duplicates()\n",
    "all_sequences_names = [f\"{row['date']}_drive_{row['drive_number']}_sync\" for _, row in unique_date_drive_pairs.iterrows()]\n",
    "\n",
    "print(\"All video sequences:\")\n",
    "print(all_sequences_names)\n",
    "\n",
    "\n",
    "# Extract unique date and drive number pairs for train_new, val_new, and test_new\n",
    "train_date_drive_pairs = train_rand_mapping.iloc[train_new['index'].values][['date', 'drive_number']].drop_duplicates()\n",
    "val_date_drive_pairs = train_rand_mapping.iloc[val_new['index'].values][['date', 'drive_number']].drop_duplicates()\n",
    "test_date_drive_pairs = train_rand_mapping.iloc[test_new['index'].values][['date', 'drive_number']].drop_duplicates()\n",
    "\n",
    "# Convert date and drive number pairs to video sequence names\n",
    "train_sequences_names = [f\"{row['date']}_{row['drive_number']}_sync\" for _, row in train_date_drive_pairs.iterrows()]\n",
    "val_sequences_names = [f\"{row['date']}_{row['drive_number']}_sync\" for _, row in val_date_drive_pairs.iterrows()]\n",
    "test_sequences_names = [f\"{row['date']}_{row['drive_number']}_sync\" for _, row in test_date_drive_pairs.iterrows()]\n",
    "\n",
    "print(\"\\nVideo sequences in the train set (train_new):\")\n",
    "print(train_sequences_names)\n",
    "print(\"\\nVideo sequences in the validation set (val_new):\")\n",
    "print(val_sequences_names)\n",
    "print(\"\\nVideo sequences in the test set (test_new):\")\n",
    "print(test_sequences_names)\n",
    "\n",
    "\n",
    "# Video sequences in the test set\n",
    "\n",
    "\n"
   ]
  },
  {
   "attachments": {},
   "cell_type": "markdown",
   "metadata": {},
   "source": [
    "# Testing new sets"
   ]
  },
  {
   "cell_type": "code",
   "execution_count": 20,
   "metadata": {},
   "outputs": [
    {
     "name": "stdout",
     "output_type": "stream",
     "text": [
      "Test index 0\n",
      "date                            2011_09_26\n",
      "drive           2011_09_26_drive_0027_sync\n",
      "frame                                    2\n",
      "drive_number                          0027\n",
      "Name: 13, dtype: object\n",
      "Test index 1\n",
      "date                            2011_09_26\n",
      "drive           2011_09_26_drive_0087_sync\n",
      "frame                                  484\n",
      "drive_number                          0087\n",
      "Name: 29, dtype: object\n",
      "The train and val sets contain different video sequences.\n",
      "The train and val sets contain different video sequences.\n",
      "The train and val sets contain different video sequences.\n"
     ]
    }
   ],
   "source": [
    "# I substract 1 because the indices in the file are 1-based\n",
    "with open('./devkit_object/mapping/train_rand.txt', 'r') as f:\n",
    "    train_rand_indices = [int(x) - 1 for x in f.read().split(',')]\n",
    "\n",
    "val = pd.read_csv('./Mateusz_ImageSets/val_new.txt', header=None, names=['index'])\n",
    "train = pd.read_csv('./Mateusz_ImageSets/train_new.txt', header=None, names=['index'])\n",
    "test = pd.read_csv('./Mateusz_ImageSets/test_new.txt', header=None, names=['index'])\n",
    "train_mapping = pd.read_csv('./devkit_object/mapping/train_mapping.txt', header=None, names=['date', 'drive', 'frame'], sep=' ')\n",
    "train_mapping['drive_number'] = train_mapping['drive'].str.extract(r'drive_(\\d+)_sync')\n",
    "\n",
    "\n",
    "train_rand_mapping = train_mapping.iloc[train_rand_indices].reset_index(drop=True)\n",
    "\n",
    "# Check that the indices are correct\n",
    "# print(\"Train index 0\")\n",
    "# print(train_rand_mapping.iloc[train.iloc[0].values[0] ])\n",
    "# print(\"Train index 1\")\n",
    "# print(train_rand_mapping.iloc[train.iloc[1].values[0] ])\n",
    "\n",
    "# print(\"Val index 0\")\n",
    "# print(train_rand_mapping.iloc[val.iloc[0].values[0] ])\n",
    "# print(\"Val index 1\")\n",
    "# print(train_rand_mapping.iloc[val.iloc[1].values[0] ])\n",
    "\n",
    "print(\"Test index 0\")\n",
    "print(train_rand_mapping.iloc[test.iloc[0].values[0] ])\n",
    "print(\"Test index 1\")\n",
    "print(train_rand_mapping.iloc[test.iloc[1].values[0] ])\n",
    "\n",
    "check_train_val_sets(train, val, train_rand_mapping)\n",
    "check_train_val_sets(train, test, train_rand_mapping)\n",
    "check_train_val_sets(val, test, train_rand_mapping)\n"
   ]
  }
 ],
 "metadata": {
  "kernelspec": {
   "display_name": "base",
   "language": "python",
   "name": "python3"
  },
  "language_info": {
   "codemirror_mode": {
    "name": "ipython",
    "version": 3
   },
   "file_extension": ".py",
   "mimetype": "text/x-python",
   "name": "python",
   "nbconvert_exporter": "python",
   "pygments_lexer": "ipython3",
   "version": "3.10.9"
  },
  "orig_nbformat": 4
 },
 "nbformat": 4,
 "nbformat_minor": 2
}
